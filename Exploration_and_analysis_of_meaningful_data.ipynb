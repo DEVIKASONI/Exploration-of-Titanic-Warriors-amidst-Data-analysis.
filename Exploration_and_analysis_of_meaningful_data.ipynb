{
  "nbformat": 4,
  "nbformat_minor": 0,
  "metadata": {
    "kernelspec": {
      "display_name": "Python 3",
      "language": "python",
      "name": "python3"
    },
    "language_info": {
      "codemirror_mode": {
        "name": "ipython",
        "version": 3
      },
      "file_extension": ".py",
      "mimetype": "text/x-python",
      "name": "python",
      "nbconvert_exporter": "python",
      "pygments_lexer": "ipython3",
      "version": "3.7.9"
    },
    "papermill": {
      "default_parameters": {},
      "duration": 9.23484,
      "end_time": "2021-03-27T15:47:44.220507",
      "environment_variables": {},
      "exception": null,
      "input_path": "__notebook__.ipynb",
      "output_path": "__notebook__.ipynb",
      "parameters": {},
      "start_time": "2021-03-27T15:47:34.985667",
      "version": "2.2.2"
    },
    "colab": {
      "name": "Exploration and analysis of meaningful data.ipynb",
      "provenance": []
    }
  },
  "cells": [
    {
      "cell_type": "code",
      "metadata": {
        "_cell_guid": "b1076dfc-b9ad-4769-8c92-a6c4dae69d19",
        "_uuid": "8f2839f25d086af736a60e9eeb907d3b93b6e0e5",
        "execution": {
          "iopub.execute_input": "2021-03-27T15:47:41.143690Z",
          "iopub.status.busy": "2021-03-27T15:47:41.142767Z",
          "iopub.status.idle": "2021-03-27T15:47:41.159575Z",
          "shell.execute_reply": "2021-03-27T15:47:41.158956Z"
        },
        "papermill": {
          "duration": 0.041702,
          "end_time": "2021-03-27T15:47:41.159796",
          "exception": false,
          "start_time": "2021-03-27T15:47:41.118094",
          "status": "completed"
        },
        "tags": [],
        "id": "4xzpfAfIq2Ni",
        "outputId": "81e7eae1-ebaa-4485-e645-b74a974f4c49"
      },
      "source": [
        "# This Python 3 environment comes with many helpful analytics libraries installed\n",
        "# It is defined by the kaggle/python Docker image: https://github.com/kaggle/docker-python\n",
        "# For example, here's several helpful packages to load\n",
        "\n",
        "import numpy as np # linear algebra\n",
        "import pandas as pd # data processing, CSV file I/O (e.g. pd.read_csv)\n",
        "\n",
        "# Input data files are available in the read-only \"../input/\" directory\n",
        "# For example, running this (by clicking run or pressing Shift+Enter) will list all files under the input directory\n",
        "\n",
        "import os\n",
        "for dirname, _, filenames in os.walk('/kaggle/input'):\n",
        "    for filename in filenames:\n",
        "        print(os.path.join(dirname, filename))\n",
        "\n",
        "# You can write up to 20GB to the current directory (/kaggle/working/) that gets preserved as output when you create a version using \"Save & Run All\" \n",
        "# You can also write temporary files to /kaggle/temp/, but they won't be saved outside of the current session"
      ],
      "execution_count": null,
      "outputs": [
        {
          "output_type": "stream",
          "text": [
            "/kaggle/input/shapeai/train.csv\n"
          ],
          "name": "stdout"
        }
      ]
    },
    {
      "cell_type": "markdown",
      "metadata": {
        "papermill": {
          "duration": 0.021147,
          "end_time": "2021-03-27T15:47:41.202457",
          "exception": false,
          "start_time": "2021-03-27T15:47:41.181310",
          "status": "completed"
        },
        "tags": [],
        "id": "_41rbcYRq2Nw"
      },
      "source": [
        "# **TITIANIC SURVIVOR ANALYSIS**"
      ]
    },
    {
      "cell_type": "markdown",
      "metadata": {
        "papermill": {
          "duration": 0.020301,
          "end_time": "2021-03-27T15:47:41.243399",
          "exception": false,
          "start_time": "2021-03-27T15:47:41.223098",
          "status": "completed"
        },
        "tags": [],
        "id": "D1iVmvqiq2Nx"
      },
      "source": [
        "# **Importing libraries**"
      ]
    },
    {
      "cell_type": "code",
      "metadata": {
        "execution": {
          "iopub.execute_input": "2021-03-27T15:47:41.289596Z",
          "iopub.status.busy": "2021-03-27T15:47:41.288948Z",
          "iopub.status.idle": "2021-03-27T15:47:41.291187Z",
          "shell.execute_reply": "2021-03-27T15:47:41.291627Z"
        },
        "papermill": {
          "duration": 0.027705,
          "end_time": "2021-03-27T15:47:41.291827",
          "exception": false,
          "start_time": "2021-03-27T15:47:41.264122",
          "status": "completed"
        },
        "tags": [],
        "id": "29aZr-RXq2Ny"
      },
      "source": [
        "import numpy as np\n",
        "import pandas as pd"
      ],
      "execution_count": null,
      "outputs": []
    },
    {
      "cell_type": "markdown",
      "metadata": {
        "papermill": {
          "duration": 0.022297,
          "end_time": "2021-03-27T15:47:41.335418",
          "exception": false,
          "start_time": "2021-03-27T15:47:41.313121",
          "status": "completed"
        },
        "tags": [],
        "id": "XAKAIl2oq2Ny"
      },
      "source": [
        "# **Loading the dataset and exploring it**"
      ]
    },
    {
      "cell_type": "code",
      "metadata": {
        "execution": {
          "iopub.execute_input": "2021-03-27T15:47:41.383967Z",
          "iopub.status.busy": "2021-03-27T15:47:41.383264Z",
          "iopub.status.idle": "2021-03-27T15:47:41.440016Z",
          "shell.execute_reply": "2021-03-27T15:47:41.439380Z"
        },
        "papermill": {
          "duration": 0.083257,
          "end_time": "2021-03-27T15:47:41.440252",
          "exception": false,
          "start_time": "2021-03-27T15:47:41.356995",
          "status": "completed"
        },
        "tags": [],
        "id": "8Qtk1QFTq2Nz",
        "outputId": "6879435c-1fd7-400c-90a3-144826715f72"
      },
      "source": [
        "df = pd.read_csv('../input/shapeai/train.csv')\n",
        "df.head()"
      ],
      "execution_count": null,
      "outputs": [
        {
          "output_type": "execute_result",
          "data": {
            "text/html": [
              "<div>\n",
              "<style scoped>\n",
              "    .dataframe tbody tr th:only-of-type {\n",
              "        vertical-align: middle;\n",
              "    }\n",
              "\n",
              "    .dataframe tbody tr th {\n",
              "        vertical-align: top;\n",
              "    }\n",
              "\n",
              "    .dataframe thead th {\n",
              "        text-align: right;\n",
              "    }\n",
              "</style>\n",
              "<table border=\"1\" class=\"dataframe\">\n",
              "  <thead>\n",
              "    <tr style=\"text-align: right;\">\n",
              "      <th></th>\n",
              "      <th>PassengerId</th>\n",
              "      <th>Survived</th>\n",
              "      <th>Pclass</th>\n",
              "      <th>Name</th>\n",
              "      <th>Sex</th>\n",
              "      <th>Age</th>\n",
              "      <th>SibSp</th>\n",
              "      <th>Parch</th>\n",
              "      <th>Ticket</th>\n",
              "      <th>Fare</th>\n",
              "      <th>Cabin</th>\n",
              "      <th>Embarked</th>\n",
              "    </tr>\n",
              "  </thead>\n",
              "  <tbody>\n",
              "    <tr>\n",
              "      <th>0</th>\n",
              "      <td>1</td>\n",
              "      <td>0</td>\n",
              "      <td>3</td>\n",
              "      <td>Braund, Mr. Owen Harris</td>\n",
              "      <td>male</td>\n",
              "      <td>22.0</td>\n",
              "      <td>1</td>\n",
              "      <td>0</td>\n",
              "      <td>A/5 21171</td>\n",
              "      <td>7.2500</td>\n",
              "      <td>NaN</td>\n",
              "      <td>S</td>\n",
              "    </tr>\n",
              "    <tr>\n",
              "      <th>1</th>\n",
              "      <td>2</td>\n",
              "      <td>1</td>\n",
              "      <td>1</td>\n",
              "      <td>Cumings, Mrs. John Bradley (Florence Briggs Th...</td>\n",
              "      <td>female</td>\n",
              "      <td>38.0</td>\n",
              "      <td>1</td>\n",
              "      <td>0</td>\n",
              "      <td>PC 17599</td>\n",
              "      <td>71.2833</td>\n",
              "      <td>C85</td>\n",
              "      <td>C</td>\n",
              "    </tr>\n",
              "    <tr>\n",
              "      <th>2</th>\n",
              "      <td>3</td>\n",
              "      <td>1</td>\n",
              "      <td>3</td>\n",
              "      <td>Heikkinen, Miss. Laina</td>\n",
              "      <td>female</td>\n",
              "      <td>26.0</td>\n",
              "      <td>0</td>\n",
              "      <td>0</td>\n",
              "      <td>STON/O2. 3101282</td>\n",
              "      <td>7.9250</td>\n",
              "      <td>NaN</td>\n",
              "      <td>S</td>\n",
              "    </tr>\n",
              "    <tr>\n",
              "      <th>3</th>\n",
              "      <td>4</td>\n",
              "      <td>1</td>\n",
              "      <td>1</td>\n",
              "      <td>Futrelle, Mrs. Jacques Heath (Lily May Peel)</td>\n",
              "      <td>female</td>\n",
              "      <td>35.0</td>\n",
              "      <td>1</td>\n",
              "      <td>0</td>\n",
              "      <td>113803</td>\n",
              "      <td>53.1000</td>\n",
              "      <td>C123</td>\n",
              "      <td>S</td>\n",
              "    </tr>\n",
              "    <tr>\n",
              "      <th>4</th>\n",
              "      <td>5</td>\n",
              "      <td>0</td>\n",
              "      <td>3</td>\n",
              "      <td>Allen, Mr. William Henry</td>\n",
              "      <td>male</td>\n",
              "      <td>35.0</td>\n",
              "      <td>0</td>\n",
              "      <td>0</td>\n",
              "      <td>373450</td>\n",
              "      <td>8.0500</td>\n",
              "      <td>NaN</td>\n",
              "      <td>S</td>\n",
              "    </tr>\n",
              "  </tbody>\n",
              "</table>\n",
              "</div>"
            ],
            "text/plain": [
              "   PassengerId  Survived  Pclass  \\\n",
              "0            1         0       3   \n",
              "1            2         1       1   \n",
              "2            3         1       3   \n",
              "3            4         1       1   \n",
              "4            5         0       3   \n",
              "\n",
              "                                                Name     Sex   Age  SibSp  \\\n",
              "0                            Braund, Mr. Owen Harris    male  22.0      1   \n",
              "1  Cumings, Mrs. John Bradley (Florence Briggs Th...  female  38.0      1   \n",
              "2                             Heikkinen, Miss. Laina  female  26.0      0   \n",
              "3       Futrelle, Mrs. Jacques Heath (Lily May Peel)  female  35.0      1   \n",
              "4                           Allen, Mr. William Henry    male  35.0      0   \n",
              "\n",
              "   Parch            Ticket     Fare Cabin Embarked  \n",
              "0      0         A/5 21171   7.2500   NaN        S  \n",
              "1      0          PC 17599  71.2833   C85        C  \n",
              "2      0  STON/O2. 3101282   7.9250   NaN        S  \n",
              "3      0            113803  53.1000  C123        S  \n",
              "4      0            373450   8.0500   NaN        S  "
            ]
          },
          "metadata": {
            "tags": []
          },
          "execution_count": 3
        }
      ]
    },
    {
      "cell_type": "code",
      "metadata": {
        "execution": {
          "iopub.execute_input": "2021-03-27T15:47:41.490111Z",
          "iopub.status.busy": "2021-03-27T15:47:41.489446Z",
          "iopub.status.idle": "2021-03-27T15:47:41.492420Z",
          "shell.execute_reply": "2021-03-27T15:47:41.492953Z"
        },
        "papermill": {
          "duration": 0.030318,
          "end_time": "2021-03-27T15:47:41.493124",
          "exception": false,
          "start_time": "2021-03-27T15:47:41.462806",
          "status": "completed"
        },
        "tags": [],
        "id": "qk6e9-I9q2Nz",
        "outputId": "4dc1884e-0814-48bf-ece9-7a4416c5288a"
      },
      "source": [
        "df.shape"
      ],
      "execution_count": null,
      "outputs": [
        {
          "output_type": "execute_result",
          "data": {
            "text/plain": [
              "(891, 12)"
            ]
          },
          "metadata": {
            "tags": []
          },
          "execution_count": 4
        }
      ]
    },
    {
      "cell_type": "markdown",
      "metadata": {
        "papermill": {
          "duration": 0.021683,
          "end_time": "2021-03-27T15:47:41.537033",
          "exception": false,
          "start_time": "2021-03-27T15:47:41.515350",
          "status": "completed"
        },
        "tags": [],
        "id": "4YXh4o0fq2N0"
      },
      "source": [
        "# **Handling Null Values**"
      ]
    },
    {
      "cell_type": "markdown",
      "metadata": {
        "papermill": {
          "duration": 0.021701,
          "end_time": "2021-03-27T15:47:41.580781",
          "exception": false,
          "start_time": "2021-03-27T15:47:41.559080",
          "status": "completed"
        },
        "tags": [],
        "id": "5wLxfSriq2N1"
      },
      "source": [
        "Finding all the null values in the dataset"
      ]
    },
    {
      "cell_type": "code",
      "metadata": {
        "execution": {
          "iopub.execute_input": "2021-03-27T15:47:41.628414Z",
          "iopub.status.busy": "2021-03-27T15:47:41.627740Z",
          "iopub.status.idle": "2021-03-27T15:47:41.636037Z",
          "shell.execute_reply": "2021-03-27T15:47:41.636545Z"
        },
        "papermill": {
          "duration": 0.034071,
          "end_time": "2021-03-27T15:47:41.636748",
          "exception": false,
          "start_time": "2021-03-27T15:47:41.602677",
          "status": "completed"
        },
        "tags": [],
        "id": "RurZdEtRq2N1",
        "outputId": "0df84dec-2e46-401d-85b4-25ebc2adaa00"
      },
      "source": [
        "df.isnull().sum()"
      ],
      "execution_count": null,
      "outputs": [
        {
          "output_type": "execute_result",
          "data": {
            "text/plain": [
              "PassengerId      0\n",
              "Survived         0\n",
              "Pclass           0\n",
              "Name             0\n",
              "Sex              0\n",
              "Age            177\n",
              "SibSp            0\n",
              "Parch            0\n",
              "Ticket           0\n",
              "Fare             0\n",
              "Cabin          687\n",
              "Embarked         2\n",
              "dtype: int64"
            ]
          },
          "metadata": {
            "tags": []
          },
          "execution_count": 5
        }
      ]
    },
    {
      "cell_type": "markdown",
      "metadata": {
        "papermill": {
          "duration": 0.022962,
          "end_time": "2021-03-27T15:47:41.682303",
          "exception": false,
          "start_time": "2021-03-27T15:47:41.659341",
          "status": "completed"
        },
        "tags": [],
        "id": "JFWpv3bAq2N2"
      },
      "source": [
        "Seeing whose null value contribution out of all the columns is greater than 35%"
      ]
    },
    {
      "cell_type": "code",
      "metadata": {
        "execution": {
          "iopub.execute_input": "2021-03-27T15:47:41.730613Z",
          "iopub.status.busy": "2021-03-27T15:47:41.729991Z",
          "iopub.status.idle": "2021-03-27T15:47:41.757674Z",
          "shell.execute_reply": "2021-03-27T15:47:41.758203Z"
        },
        "papermill": {
          "duration": 0.05349,
          "end_time": "2021-03-27T15:47:41.758374",
          "exception": false,
          "start_time": "2021-03-27T15:47:41.704884",
          "status": "completed"
        },
        "tags": [],
        "id": "mw9HB76Xq2N2",
        "outputId": "e2e9f5b2-4e84-448b-c375-a061460d278f"
      },
      "source": [
        "drop_col = df.isnull().sum()[df.isnull().sum() > (35/100 * df.shape[0])]\n",
        "drop_col"
      ],
      "execution_count": null,
      "outputs": [
        {
          "output_type": "execute_result",
          "data": {
            "text/plain": [
              "Cabin    687\n",
              "dtype: int64"
            ]
          },
          "metadata": {
            "tags": []
          },
          "execution_count": 6
        }
      ]
    },
    {
      "cell_type": "code",
      "metadata": {
        "execution": {
          "iopub.execute_input": "2021-03-27T15:47:41.808157Z",
          "iopub.status.busy": "2021-03-27T15:47:41.807237Z",
          "iopub.status.idle": "2021-03-27T15:47:41.813790Z",
          "shell.execute_reply": "2021-03-27T15:47:41.813293Z"
        },
        "papermill": {
          "duration": 0.032489,
          "end_time": "2021-03-27T15:47:41.813931",
          "exception": false,
          "start_time": "2021-03-27T15:47:41.781442",
          "status": "completed"
        },
        "tags": [],
        "id": "FJ45zKlvq2N3",
        "outputId": "a694da35-720a-436d-87f8-081077407bdb"
      },
      "source": [
        "drop_col.index"
      ],
      "execution_count": null,
      "outputs": [
        {
          "output_type": "execute_result",
          "data": {
            "text/plain": [
              "Index(['Cabin'], dtype='object')"
            ]
          },
          "metadata": {
            "tags": []
          },
          "execution_count": 7
        }
      ]
    },
    {
      "cell_type": "markdown",
      "metadata": {
        "papermill": {
          "duration": 0.024413,
          "end_time": "2021-03-27T15:47:41.861615",
          "exception": false,
          "start_time": "2021-03-27T15:47:41.837202",
          "status": "completed"
        },
        "tags": [],
        "id": "_MKbpUVpq2N3"
      },
      "source": [
        "Dropping the column CABIN"
      ]
    },
    {
      "cell_type": "code",
      "metadata": {
        "execution": {
          "iopub.execute_input": "2021-03-27T15:47:41.919742Z",
          "iopub.status.busy": "2021-03-27T15:47:41.914772Z",
          "iopub.status.idle": "2021-03-27T15:47:41.922878Z",
          "shell.execute_reply": "2021-03-27T15:47:41.923437Z"
        },
        "papermill": {
          "duration": 0.038415,
          "end_time": "2021-03-27T15:47:41.923614",
          "exception": false,
          "start_time": "2021-03-27T15:47:41.885199",
          "status": "completed"
        },
        "tags": [],
        "id": "_X5G3nl3q2N4",
        "outputId": "ac879bf6-f71a-4bb9-ce75-2500e213984a"
      },
      "source": [
        "df.drop(drop_col.index, axis=1, inplace=True)\n",
        "df.isnull().sum()"
      ],
      "execution_count": null,
      "outputs": [
        {
          "output_type": "execute_result",
          "data": {
            "text/plain": [
              "PassengerId      0\n",
              "Survived         0\n",
              "Pclass           0\n",
              "Name             0\n",
              "Sex              0\n",
              "Age            177\n",
              "SibSp            0\n",
              "Parch            0\n",
              "Ticket           0\n",
              "Fare             0\n",
              "Embarked         2\n",
              "dtype: int64"
            ]
          },
          "metadata": {
            "tags": []
          },
          "execution_count": 8
        }
      ]
    },
    {
      "cell_type": "markdown",
      "metadata": {
        "papermill": {
          "duration": 0.024156,
          "end_time": "2021-03-27T15:47:41.972468",
          "exception": false,
          "start_time": "2021-03-27T15:47:41.948312",
          "status": "completed"
        },
        "tags": [],
        "id": "CKTU3k5Eq2N4"
      },
      "source": [
        "Is there any null values left in the dataset"
      ]
    },
    {
      "cell_type": "code",
      "metadata": {
        "execution": {
          "iopub.execute_input": "2021-03-27T15:47:42.024823Z",
          "iopub.status.busy": "2021-03-27T15:47:42.024143Z",
          "iopub.status.idle": "2021-03-27T15:47:42.039405Z",
          "shell.execute_reply": "2021-03-27T15:47:42.038807Z"
        },
        "papermill": {
          "duration": 0.04235,
          "end_time": "2021-03-27T15:47:42.039553",
          "exception": false,
          "start_time": "2021-03-27T15:47:41.997203",
          "status": "completed"
        },
        "tags": [],
        "id": "-xjUF7Kyq2N5",
        "outputId": "31018990-1332-4a1e-9734-a364e289520c"
      },
      "source": [
        "df.fillna(df.mean(), inplace = True)\n",
        "df.isnull().sum()"
      ],
      "execution_count": null,
      "outputs": [
        {
          "output_type": "execute_result",
          "data": {
            "text/plain": [
              "PassengerId    0\n",
              "Survived       0\n",
              "Pclass         0\n",
              "Name           0\n",
              "Sex            0\n",
              "Age            0\n",
              "SibSp          0\n",
              "Parch          0\n",
              "Ticket         0\n",
              "Fare           0\n",
              "Embarked       2\n",
              "dtype: int64"
            ]
          },
          "metadata": {
            "tags": []
          },
          "execution_count": 9
        }
      ]
    },
    {
      "cell_type": "markdown",
      "metadata": {
        "papermill": {
          "duration": 0.024293,
          "end_time": "2021-03-27T15:47:42.088395",
          "exception": false,
          "start_time": "2021-03-27T15:47:42.064102",
          "status": "completed"
        },
        "tags": [],
        "id": "P8tmVqkEq2N5"
      },
      "source": [
        "As Embarked col has strings, we would replace NA values with the most frequent occuring string"
      ]
    },
    {
      "cell_type": "code",
      "metadata": {
        "execution": {
          "iopub.execute_input": "2021-03-27T15:47:42.148120Z",
          "iopub.status.busy": "2021-03-27T15:47:42.141285Z",
          "iopub.status.idle": "2021-03-27T15:47:42.151676Z",
          "shell.execute_reply": "2021-03-27T15:47:42.152195Z"
        },
        "papermill": {
          "duration": 0.039683,
          "end_time": "2021-03-27T15:47:42.152380",
          "exception": false,
          "start_time": "2021-03-27T15:47:42.112697",
          "status": "completed"
        },
        "tags": [],
        "id": "Hjd2hBCXq2N6",
        "outputId": "3e3730d8-38e9-42cc-b7c7-cb121c5d6ac0"
      },
      "source": [
        "df['Embarked'].describe()"
      ],
      "execution_count": null,
      "outputs": [
        {
          "output_type": "execute_result",
          "data": {
            "text/plain": [
              "count     889\n",
              "unique      3\n",
              "top         S\n",
              "freq      644\n",
              "Name: Embarked, dtype: object"
            ]
          },
          "metadata": {
            "tags": []
          },
          "execution_count": 10
        }
      ]
    },
    {
      "cell_type": "markdown",
      "metadata": {
        "papermill": {
          "duration": 0.024691,
          "end_time": "2021-03-27T15:47:42.202159",
          "exception": false,
          "start_time": "2021-03-27T15:47:42.177468",
          "status": "completed"
        },
        "tags": [],
        "id": "1bxc4furq2N6"
      },
      "source": [
        "Checking the dataset again"
      ]
    },
    {
      "cell_type": "code",
      "metadata": {
        "execution": {
          "iopub.execute_input": "2021-03-27T15:47:42.256276Z",
          "iopub.status.busy": "2021-03-27T15:47:42.255283Z",
          "iopub.status.idle": "2021-03-27T15:47:42.266737Z",
          "shell.execute_reply": "2021-03-27T15:47:42.266114Z"
        },
        "papermill": {
          "duration": 0.0397,
          "end_time": "2021-03-27T15:47:42.266887",
          "exception": false,
          "start_time": "2021-03-27T15:47:42.227187",
          "status": "completed"
        },
        "tags": [],
        "id": "HE827c4Dq2N7",
        "outputId": "d3e116e5-78a8-42f5-fa9b-d25a16a28c59"
      },
      "source": [
        "df.fillna('S', inplace = True)\n",
        "df.isnull().sum()"
      ],
      "execution_count": null,
      "outputs": [
        {
          "output_type": "execute_result",
          "data": {
            "text/plain": [
              "PassengerId    0\n",
              "Survived       0\n",
              "Pclass         0\n",
              "Name           0\n",
              "Sex            0\n",
              "Age            0\n",
              "SibSp          0\n",
              "Parch          0\n",
              "Ticket         0\n",
              "Fare           0\n",
              "Embarked       0\n",
              "dtype: int64"
            ]
          },
          "metadata": {
            "tags": []
          },
          "execution_count": 11
        }
      ]
    },
    {
      "cell_type": "markdown",
      "metadata": {
        "papermill": {
          "duration": 0.026321,
          "end_time": "2021-03-27T15:47:42.318798",
          "exception": false,
          "start_time": "2021-03-27T15:47:42.292477",
          "status": "completed"
        },
        "tags": [],
        "id": "LHYLz4f1q2N7"
      },
      "source": [
        "# **Finding correlation and drawing conclusions**"
      ]
    },
    {
      "cell_type": "markdown",
      "metadata": {
        "papermill": {
          "duration": 0.025222,
          "end_time": "2021-03-27T15:47:42.370606",
          "exception": false,
          "start_time": "2021-03-27T15:47:42.345384",
          "status": "completed"
        },
        "tags": [],
        "id": "MdQxMnLlq2N7"
      },
      "source": [
        "Getting the Correlation table, helps to understand how the two col's have relation between them"
      ]
    },
    {
      "cell_type": "code",
      "metadata": {
        "execution": {
          "iopub.execute_input": "2021-03-27T15:47:42.425078Z",
          "iopub.status.busy": "2021-03-27T15:47:42.424371Z",
          "iopub.status.idle": "2021-03-27T15:47:42.444951Z",
          "shell.execute_reply": "2021-03-27T15:47:42.444278Z"
        },
        "papermill": {
          "duration": 0.048952,
          "end_time": "2021-03-27T15:47:42.445129",
          "exception": false,
          "start_time": "2021-03-27T15:47:42.396177",
          "status": "completed"
        },
        "tags": [],
        "id": "DqL52KfCq2N8",
        "outputId": "42bfdece-f7c4-4bc9-b54b-7a078d44bf67"
      },
      "source": [
        "df.corr()"
      ],
      "execution_count": null,
      "outputs": [
        {
          "output_type": "execute_result",
          "data": {
            "text/html": [
              "<div>\n",
              "<style scoped>\n",
              "    .dataframe tbody tr th:only-of-type {\n",
              "        vertical-align: middle;\n",
              "    }\n",
              "\n",
              "    .dataframe tbody tr th {\n",
              "        vertical-align: top;\n",
              "    }\n",
              "\n",
              "    .dataframe thead th {\n",
              "        text-align: right;\n",
              "    }\n",
              "</style>\n",
              "<table border=\"1\" class=\"dataframe\">\n",
              "  <thead>\n",
              "    <tr style=\"text-align: right;\">\n",
              "      <th></th>\n",
              "      <th>PassengerId</th>\n",
              "      <th>Survived</th>\n",
              "      <th>Pclass</th>\n",
              "      <th>Age</th>\n",
              "      <th>SibSp</th>\n",
              "      <th>Parch</th>\n",
              "      <th>Fare</th>\n",
              "    </tr>\n",
              "  </thead>\n",
              "  <tbody>\n",
              "    <tr>\n",
              "      <th>PassengerId</th>\n",
              "      <td>1.000000</td>\n",
              "      <td>-0.005007</td>\n",
              "      <td>-0.035144</td>\n",
              "      <td>0.033207</td>\n",
              "      <td>-0.057527</td>\n",
              "      <td>-0.001652</td>\n",
              "      <td>0.012658</td>\n",
              "    </tr>\n",
              "    <tr>\n",
              "      <th>Survived</th>\n",
              "      <td>-0.005007</td>\n",
              "      <td>1.000000</td>\n",
              "      <td>-0.338481</td>\n",
              "      <td>-0.069809</td>\n",
              "      <td>-0.035322</td>\n",
              "      <td>0.081629</td>\n",
              "      <td>0.257307</td>\n",
              "    </tr>\n",
              "    <tr>\n",
              "      <th>Pclass</th>\n",
              "      <td>-0.035144</td>\n",
              "      <td>-0.338481</td>\n",
              "      <td>1.000000</td>\n",
              "      <td>-0.331339</td>\n",
              "      <td>0.083081</td>\n",
              "      <td>0.018443</td>\n",
              "      <td>-0.549500</td>\n",
              "    </tr>\n",
              "    <tr>\n",
              "      <th>Age</th>\n",
              "      <td>0.033207</td>\n",
              "      <td>-0.069809</td>\n",
              "      <td>-0.331339</td>\n",
              "      <td>1.000000</td>\n",
              "      <td>-0.232625</td>\n",
              "      <td>-0.179191</td>\n",
              "      <td>0.091566</td>\n",
              "    </tr>\n",
              "    <tr>\n",
              "      <th>SibSp</th>\n",
              "      <td>-0.057527</td>\n",
              "      <td>-0.035322</td>\n",
              "      <td>0.083081</td>\n",
              "      <td>-0.232625</td>\n",
              "      <td>1.000000</td>\n",
              "      <td>0.414838</td>\n",
              "      <td>0.159651</td>\n",
              "    </tr>\n",
              "    <tr>\n",
              "      <th>Parch</th>\n",
              "      <td>-0.001652</td>\n",
              "      <td>0.081629</td>\n",
              "      <td>0.018443</td>\n",
              "      <td>-0.179191</td>\n",
              "      <td>0.414838</td>\n",
              "      <td>1.000000</td>\n",
              "      <td>0.216225</td>\n",
              "    </tr>\n",
              "    <tr>\n",
              "      <th>Fare</th>\n",
              "      <td>0.012658</td>\n",
              "      <td>0.257307</td>\n",
              "      <td>-0.549500</td>\n",
              "      <td>0.091566</td>\n",
              "      <td>0.159651</td>\n",
              "      <td>0.216225</td>\n",
              "      <td>1.000000</td>\n",
              "    </tr>\n",
              "  </tbody>\n",
              "</table>\n",
              "</div>"
            ],
            "text/plain": [
              "             PassengerId  Survived    Pclass       Age     SibSp     Parch  \\\n",
              "PassengerId     1.000000 -0.005007 -0.035144  0.033207 -0.057527 -0.001652   \n",
              "Survived       -0.005007  1.000000 -0.338481 -0.069809 -0.035322  0.081629   \n",
              "Pclass         -0.035144 -0.338481  1.000000 -0.331339  0.083081  0.018443   \n",
              "Age             0.033207 -0.069809 -0.331339  1.000000 -0.232625 -0.179191   \n",
              "SibSp          -0.057527 -0.035322  0.083081 -0.232625  1.000000  0.414838   \n",
              "Parch          -0.001652  0.081629  0.018443 -0.179191  0.414838  1.000000   \n",
              "Fare            0.012658  0.257307 -0.549500  0.091566  0.159651  0.216225   \n",
              "\n",
              "                 Fare  \n",
              "PassengerId  0.012658  \n",
              "Survived     0.257307  \n",
              "Pclass      -0.549500  \n",
              "Age          0.091566  \n",
              "SibSp        0.159651  \n",
              "Parch        0.216225  \n",
              "Fare         1.000000  "
            ]
          },
          "metadata": {
            "tags": []
          },
          "execution_count": 12
        }
      ]
    },
    {
      "cell_type": "markdown",
      "metadata": {
        "papermill": {
          "duration": 0.026616,
          "end_time": "2021-03-27T15:47:42.498124",
          "exception": false,
          "start_time": "2021-03-27T15:47:42.471508",
          "status": "completed"
        },
        "tags": [],
        "id": "Bj2MK3Euq2N8"
      },
      "source": [
        "Combining Parch and SibSp as their corr value is high, then dropping both the cols from the dataset"
      ]
    },
    {
      "cell_type": "code",
      "metadata": {
        "execution": {
          "iopub.execute_input": "2021-03-27T15:47:42.566237Z",
          "iopub.status.busy": "2021-03-27T15:47:42.564217Z",
          "iopub.status.idle": "2021-03-27T15:47:42.581355Z",
          "shell.execute_reply": "2021-03-27T15:47:42.580798Z"
        },
        "papermill": {
          "duration": 0.057199,
          "end_time": "2021-03-27T15:47:42.581498",
          "exception": false,
          "start_time": "2021-03-27T15:47:42.524299",
          "status": "completed"
        },
        "tags": [],
        "id": "GUzZH75Tq2N9",
        "outputId": "b3c3b621-85ff-4da6-98db-d4294f30e89f"
      },
      "source": [
        "df['FamilySize'] = df['Parch'] + df['SibSp']\n",
        "df.drop(['Parch','SibSp'], axis=1, inplace=True)\n",
        "df.corr()"
      ],
      "execution_count": null,
      "outputs": [
        {
          "output_type": "execute_result",
          "data": {
            "text/html": [
              "<div>\n",
              "<style scoped>\n",
              "    .dataframe tbody tr th:only-of-type {\n",
              "        vertical-align: middle;\n",
              "    }\n",
              "\n",
              "    .dataframe tbody tr th {\n",
              "        vertical-align: top;\n",
              "    }\n",
              "\n",
              "    .dataframe thead th {\n",
              "        text-align: right;\n",
              "    }\n",
              "</style>\n",
              "<table border=\"1\" class=\"dataframe\">\n",
              "  <thead>\n",
              "    <tr style=\"text-align: right;\">\n",
              "      <th></th>\n",
              "      <th>PassengerId</th>\n",
              "      <th>Survived</th>\n",
              "      <th>Pclass</th>\n",
              "      <th>Age</th>\n",
              "      <th>Fare</th>\n",
              "      <th>FamilySize</th>\n",
              "    </tr>\n",
              "  </thead>\n",
              "  <tbody>\n",
              "    <tr>\n",
              "      <th>PassengerId</th>\n",
              "      <td>1.000000</td>\n",
              "      <td>-0.005007</td>\n",
              "      <td>-0.035144</td>\n",
              "      <td>0.033207</td>\n",
              "      <td>0.012658</td>\n",
              "      <td>-0.040143</td>\n",
              "    </tr>\n",
              "    <tr>\n",
              "      <th>Survived</th>\n",
              "      <td>-0.005007</td>\n",
              "      <td>1.000000</td>\n",
              "      <td>-0.338481</td>\n",
              "      <td>-0.069809</td>\n",
              "      <td>0.257307</td>\n",
              "      <td>0.016639</td>\n",
              "    </tr>\n",
              "    <tr>\n",
              "      <th>Pclass</th>\n",
              "      <td>-0.035144</td>\n",
              "      <td>-0.338481</td>\n",
              "      <td>1.000000</td>\n",
              "      <td>-0.331339</td>\n",
              "      <td>-0.549500</td>\n",
              "      <td>0.065997</td>\n",
              "    </tr>\n",
              "    <tr>\n",
              "      <th>Age</th>\n",
              "      <td>0.033207</td>\n",
              "      <td>-0.069809</td>\n",
              "      <td>-0.331339</td>\n",
              "      <td>1.000000</td>\n",
              "      <td>0.091566</td>\n",
              "      <td>-0.248512</td>\n",
              "    </tr>\n",
              "    <tr>\n",
              "      <th>Fare</th>\n",
              "      <td>0.012658</td>\n",
              "      <td>0.257307</td>\n",
              "      <td>-0.549500</td>\n",
              "      <td>0.091566</td>\n",
              "      <td>1.000000</td>\n",
              "      <td>0.217138</td>\n",
              "    </tr>\n",
              "    <tr>\n",
              "      <th>FamilySize</th>\n",
              "      <td>-0.040143</td>\n",
              "      <td>0.016639</td>\n",
              "      <td>0.065997</td>\n",
              "      <td>-0.248512</td>\n",
              "      <td>0.217138</td>\n",
              "      <td>1.000000</td>\n",
              "    </tr>\n",
              "  </tbody>\n",
              "</table>\n",
              "</div>"
            ],
            "text/plain": [
              "             PassengerId  Survived    Pclass       Age      Fare  FamilySize\n",
              "PassengerId     1.000000 -0.005007 -0.035144  0.033207  0.012658   -0.040143\n",
              "Survived       -0.005007  1.000000 -0.338481 -0.069809  0.257307    0.016639\n",
              "Pclass         -0.035144 -0.338481  1.000000 -0.331339 -0.549500    0.065997\n",
              "Age             0.033207 -0.069809 -0.331339  1.000000  0.091566   -0.248512\n",
              "Fare            0.012658  0.257307 -0.549500  0.091566  1.000000    0.217138\n",
              "FamilySize     -0.040143  0.016639  0.065997 -0.248512  0.217138    1.000000"
            ]
          },
          "metadata": {
            "tags": []
          },
          "execution_count": 13
        }
      ]
    },
    {
      "cell_type": "markdown",
      "metadata": {
        "papermill": {
          "duration": 0.026213,
          "end_time": "2021-03-27T15:47:42.634502",
          "exception": false,
          "start_time": "2021-03-27T15:47:42.608289",
          "status": "completed"
        },
        "tags": [],
        "id": "8J77PJ2Qq2N9"
      },
      "source": [
        "Marking 1 if the person travelled alone, else 0 (ie, travelled with any other person)"
      ]
    },
    {
      "cell_type": "code",
      "metadata": {
        "execution": {
          "iopub.execute_input": "2021-03-27T15:47:42.691315Z",
          "iopub.status.busy": "2021-03-27T15:47:42.690634Z",
          "iopub.status.idle": "2021-03-27T15:47:42.718700Z",
          "shell.execute_reply": "2021-03-27T15:47:42.718114Z"
        },
        "papermill": {
          "duration": 0.057576,
          "end_time": "2021-03-27T15:47:42.718874",
          "exception": false,
          "start_time": "2021-03-27T15:47:42.661298",
          "status": "completed"
        },
        "tags": [],
        "id": "yAbZIBH_q2N-",
        "outputId": "7f6ce2a2-4122-4f8a-901b-6f016057eb68"
      },
      "source": [
        "df['Alone'] = [0 if df['FamilySize'][i]>0 else 1 for i in df.index]\n",
        "df.head()"
      ],
      "execution_count": null,
      "outputs": [
        {
          "output_type": "execute_result",
          "data": {
            "text/html": [
              "<div>\n",
              "<style scoped>\n",
              "    .dataframe tbody tr th:only-of-type {\n",
              "        vertical-align: middle;\n",
              "    }\n",
              "\n",
              "    .dataframe tbody tr th {\n",
              "        vertical-align: top;\n",
              "    }\n",
              "\n",
              "    .dataframe thead th {\n",
              "        text-align: right;\n",
              "    }\n",
              "</style>\n",
              "<table border=\"1\" class=\"dataframe\">\n",
              "  <thead>\n",
              "    <tr style=\"text-align: right;\">\n",
              "      <th></th>\n",
              "      <th>PassengerId</th>\n",
              "      <th>Survived</th>\n",
              "      <th>Pclass</th>\n",
              "      <th>Name</th>\n",
              "      <th>Sex</th>\n",
              "      <th>Age</th>\n",
              "      <th>Ticket</th>\n",
              "      <th>Fare</th>\n",
              "      <th>Embarked</th>\n",
              "      <th>FamilySize</th>\n",
              "      <th>Alone</th>\n",
              "    </tr>\n",
              "  </thead>\n",
              "  <tbody>\n",
              "    <tr>\n",
              "      <th>0</th>\n",
              "      <td>1</td>\n",
              "      <td>0</td>\n",
              "      <td>3</td>\n",
              "      <td>Braund, Mr. Owen Harris</td>\n",
              "      <td>male</td>\n",
              "      <td>22.0</td>\n",
              "      <td>A/5 21171</td>\n",
              "      <td>7.2500</td>\n",
              "      <td>S</td>\n",
              "      <td>1</td>\n",
              "      <td>0</td>\n",
              "    </tr>\n",
              "    <tr>\n",
              "      <th>1</th>\n",
              "      <td>2</td>\n",
              "      <td>1</td>\n",
              "      <td>1</td>\n",
              "      <td>Cumings, Mrs. John Bradley (Florence Briggs Th...</td>\n",
              "      <td>female</td>\n",
              "      <td>38.0</td>\n",
              "      <td>PC 17599</td>\n",
              "      <td>71.2833</td>\n",
              "      <td>C</td>\n",
              "      <td>1</td>\n",
              "      <td>0</td>\n",
              "    </tr>\n",
              "    <tr>\n",
              "      <th>2</th>\n",
              "      <td>3</td>\n",
              "      <td>1</td>\n",
              "      <td>3</td>\n",
              "      <td>Heikkinen, Miss. Laina</td>\n",
              "      <td>female</td>\n",
              "      <td>26.0</td>\n",
              "      <td>STON/O2. 3101282</td>\n",
              "      <td>7.9250</td>\n",
              "      <td>S</td>\n",
              "      <td>0</td>\n",
              "      <td>1</td>\n",
              "    </tr>\n",
              "    <tr>\n",
              "      <th>3</th>\n",
              "      <td>4</td>\n",
              "      <td>1</td>\n",
              "      <td>1</td>\n",
              "      <td>Futrelle, Mrs. Jacques Heath (Lily May Peel)</td>\n",
              "      <td>female</td>\n",
              "      <td>35.0</td>\n",
              "      <td>113803</td>\n",
              "      <td>53.1000</td>\n",
              "      <td>S</td>\n",
              "      <td>1</td>\n",
              "      <td>0</td>\n",
              "    </tr>\n",
              "    <tr>\n",
              "      <th>4</th>\n",
              "      <td>5</td>\n",
              "      <td>0</td>\n",
              "      <td>3</td>\n",
              "      <td>Allen, Mr. William Henry</td>\n",
              "      <td>male</td>\n",
              "      <td>35.0</td>\n",
              "      <td>373450</td>\n",
              "      <td>8.0500</td>\n",
              "      <td>S</td>\n",
              "      <td>0</td>\n",
              "      <td>1</td>\n",
              "    </tr>\n",
              "  </tbody>\n",
              "</table>\n",
              "</div>"
            ],
            "text/plain": [
              "   PassengerId  Survived  Pclass  \\\n",
              "0            1         0       3   \n",
              "1            2         1       1   \n",
              "2            3         1       3   \n",
              "3            4         1       1   \n",
              "4            5         0       3   \n",
              "\n",
              "                                                Name     Sex   Age  \\\n",
              "0                            Braund, Mr. Owen Harris    male  22.0   \n",
              "1  Cumings, Mrs. John Bradley (Florence Briggs Th...  female  38.0   \n",
              "2                             Heikkinen, Miss. Laina  female  26.0   \n",
              "3       Futrelle, Mrs. Jacques Heath (Lily May Peel)  female  35.0   \n",
              "4                           Allen, Mr. William Henry    male  35.0   \n",
              "\n",
              "             Ticket     Fare Embarked  FamilySize  Alone  \n",
              "0         A/5 21171   7.2500        S           1      0  \n",
              "1          PC 17599  71.2833        C           1      0  \n",
              "2  STON/O2. 3101282   7.9250        S           0      1  \n",
              "3            113803  53.1000        S           1      0  \n",
              "4            373450   8.0500        S           0      1  "
            ]
          },
          "metadata": {
            "tags": []
          },
          "execution_count": 14
        }
      ]
    },
    {
      "cell_type": "markdown",
      "metadata": {
        "papermill": {
          "duration": 0.027049,
          "end_time": "2021-03-27T15:47:42.773368",
          "exception": false,
          "start_time": "2021-03-27T15:47:42.746319",
          "status": "completed"
        },
        "tags": [],
        "id": "5D3dfHnJq2N-"
      },
      "source": [
        "Checking the probability(by cal mean) of the person's survival rate with the factor that he/she is travelling alone or not "
      ]
    },
    {
      "cell_type": "code",
      "metadata": {
        "execution": {
          "iopub.execute_input": "2021-03-27T15:47:42.831386Z",
          "iopub.status.busy": "2021-03-27T15:47:42.830801Z",
          "iopub.status.idle": "2021-03-27T15:47:42.840910Z",
          "shell.execute_reply": "2021-03-27T15:47:42.841413Z"
        },
        "papermill": {
          "duration": 0.040717,
          "end_time": "2021-03-27T15:47:42.841592",
          "exception": false,
          "start_time": "2021-03-27T15:47:42.800875",
          "status": "completed"
        },
        "tags": [],
        "id": "-B17euxUq2N-",
        "outputId": "29c4825b-2105-45d0-bb7e-0aa911a28129"
      },
      "source": [
        "df.groupby(['Alone'])['Survived'].mean()"
      ],
      "execution_count": null,
      "outputs": [
        {
          "output_type": "execute_result",
          "data": {
            "text/plain": [
              "Alone\n",
              "0    0.505650\n",
              "1    0.303538\n",
              "Name: Survived, dtype: float64"
            ]
          },
          "metadata": {
            "tags": []
          },
          "execution_count": 15
        }
      ]
    },
    {
      "cell_type": "markdown",
      "metadata": {
        "papermill": {
          "duration": 0.027505,
          "end_time": "2021-03-27T15:47:42.897177",
          "exception": false,
          "start_time": "2021-03-27T15:47:42.869672",
          "status": "completed"
        },
        "tags": [],
        "id": "fkYKtHdJq2N_"
      },
      "source": [
        "Clearly if travelling with family there are chances of your survival"
      ]
    },
    {
      "cell_type": "markdown",
      "metadata": {
        "papermill": {
          "duration": 0.028265,
          "end_time": "2021-03-27T15:47:42.953142",
          "exception": false,
          "start_time": "2021-03-27T15:47:42.924877",
          "status": "completed"
        },
        "tags": [],
        "id": "B-Y-_PMdq2N_"
      },
      "source": [
        "Now, checking the correlation between alone and fare"
      ]
    },
    {
      "cell_type": "code",
      "metadata": {
        "execution": {
          "iopub.execute_input": "2021-03-27T15:47:43.012298Z",
          "iopub.status.busy": "2021-03-27T15:47:43.011657Z",
          "iopub.status.idle": "2021-03-27T15:47:43.024377Z",
          "shell.execute_reply": "2021-03-27T15:47:43.023867Z"
        },
        "papermill": {
          "duration": 0.043717,
          "end_time": "2021-03-27T15:47:43.024521",
          "exception": false,
          "start_time": "2021-03-27T15:47:42.980804",
          "status": "completed"
        },
        "tags": [],
        "id": "FFhBrOP5q2OA",
        "outputId": "47c7d5ae-b32f-415a-cec0-23c2c16d78fb"
      },
      "source": [
        "df[['Alone','Fare']].corr()"
      ],
      "execution_count": null,
      "outputs": [
        {
          "output_type": "execute_result",
          "data": {
            "text/html": [
              "<div>\n",
              "<style scoped>\n",
              "    .dataframe tbody tr th:only-of-type {\n",
              "        vertical-align: middle;\n",
              "    }\n",
              "\n",
              "    .dataframe tbody tr th {\n",
              "        vertical-align: top;\n",
              "    }\n",
              "\n",
              "    .dataframe thead th {\n",
              "        text-align: right;\n",
              "    }\n",
              "</style>\n",
              "<table border=\"1\" class=\"dataframe\">\n",
              "  <thead>\n",
              "    <tr style=\"text-align: right;\">\n",
              "      <th></th>\n",
              "      <th>Alone</th>\n",
              "      <th>Fare</th>\n",
              "    </tr>\n",
              "  </thead>\n",
              "  <tbody>\n",
              "    <tr>\n",
              "      <th>Alone</th>\n",
              "      <td>1.000000</td>\n",
              "      <td>-0.271832</td>\n",
              "    </tr>\n",
              "    <tr>\n",
              "      <th>Fare</th>\n",
              "      <td>-0.271832</td>\n",
              "      <td>1.000000</td>\n",
              "    </tr>\n",
              "  </tbody>\n",
              "</table>\n",
              "</div>"
            ],
            "text/plain": [
              "          Alone      Fare\n",
              "Alone  1.000000 -0.271832\n",
              "Fare  -0.271832  1.000000"
            ]
          },
          "metadata": {
            "tags": []
          },
          "execution_count": 16
        }
      ]
    },
    {
      "cell_type": "markdown",
      "metadata": {
        "papermill": {
          "duration": 0.028648,
          "end_time": "2021-03-27T15:47:43.081623",
          "exception": false,
          "start_time": "2021-03-27T15:47:43.052975",
          "status": "completed"
        },
        "tags": [],
        "id": "lW7ue5Udq2OA"
      },
      "source": [
        "Clearly if you are with the family the charges/fare would be higher( as the value is high and the negative sign indicates of being not alone)"
      ]
    },
    {
      "cell_type": "markdown",
      "metadata": {
        "papermill": {
          "duration": 0.027817,
          "end_time": "2021-03-27T15:47:43.137665",
          "exception": false,
          "start_time": "2021-03-27T15:47:43.109848",
          "status": "completed"
        },
        "tags": [],
        "id": "8Qtknkp1q2OB"
      },
      "source": [
        "Checking if the gender affects the rate of your survival"
      ]
    },
    {
      "cell_type": "code",
      "metadata": {
        "execution": {
          "iopub.execute_input": "2021-03-27T15:47:43.212982Z",
          "iopub.status.busy": "2021-03-27T15:47:43.211857Z",
          "iopub.status.idle": "2021-03-27T15:47:43.216811Z",
          "shell.execute_reply": "2021-03-27T15:47:43.217268Z"
        },
        "papermill": {
          "duration": 0.051354,
          "end_time": "2021-03-27T15:47:43.217448",
          "exception": false,
          "start_time": "2021-03-27T15:47:43.166094",
          "status": "completed"
        },
        "tags": [],
        "id": "X1_4knglq2OB",
        "outputId": "33ea8485-af8b-4a38-984c-f705c19e7b67"
      },
      "source": [
        "df['Sex'] = [0 if df['Sex'][i]=='male' else 1 for i in df.index]\n",
        "df.groupby(['Sex'])['Survived'].mean()"
      ],
      "execution_count": null,
      "outputs": [
        {
          "output_type": "execute_result",
          "data": {
            "text/plain": [
              "Sex\n",
              "0    0.188908\n",
              "1    0.742038\n",
              "Name: Survived, dtype: float64"
            ]
          },
          "metadata": {
            "tags": []
          },
          "execution_count": 17
        }
      ]
    },
    {
      "cell_type": "markdown",
      "metadata": {
        "papermill": {
          "duration": 0.028404,
          "end_time": "2021-03-27T15:47:43.274792",
          "exception": false,
          "start_time": "2021-03-27T15:47:43.246388",
          "status": "completed"
        },
        "tags": [],
        "id": "lTze7yWpq2OC"
      },
      "source": [
        "Cleary the probability(by cal mean) of the person's survival rate depends on their gender, if female chances are high that you'll survive"
      ]
    },
    {
      "cell_type": "markdown",
      "metadata": {
        "papermill": {
          "duration": 0.028518,
          "end_time": "2021-03-27T15:47:43.332204",
          "exception": false,
          "start_time": "2021-03-27T15:47:43.303686",
          "status": "completed"
        },
        "tags": [],
        "id": "qKWRbvBJq2OC"
      },
      "source": [
        "Trying to find out people boarded from which station survived the most"
      ]
    },
    {
      "cell_type": "code",
      "metadata": {
        "execution": {
          "iopub.execute_input": "2021-03-27T15:47:43.401338Z",
          "iopub.status.busy": "2021-03-27T15:47:43.400307Z",
          "iopub.status.idle": "2021-03-27T15:47:43.405795Z",
          "shell.execute_reply": "2021-03-27T15:47:43.405079Z"
        },
        "papermill": {
          "duration": 0.044923,
          "end_time": "2021-03-27T15:47:43.405984",
          "exception": false,
          "start_time": "2021-03-27T15:47:43.361061",
          "status": "completed"
        },
        "tags": [],
        "id": "0H5K_4Axq2OD",
        "outputId": "d00ccc94-0e39-4164-8acb-6b0114e4f69f"
      },
      "source": [
        "df.groupby(['Embarked'])['Survived'].mean()"
      ],
      "execution_count": null,
      "outputs": [
        {
          "output_type": "execute_result",
          "data": {
            "text/plain": [
              "Embarked\n",
              "C    0.553571\n",
              "Q    0.389610\n",
              "S    0.339009\n",
              "Name: Survived, dtype: float64"
            ]
          },
          "metadata": {
            "tags": []
          },
          "execution_count": 18
        }
      ]
    },
    {
      "cell_type": "markdown",
      "metadata": {
        "papermill": {
          "duration": 0.028668,
          "end_time": "2021-03-27T15:47:43.465040",
          "exception": false,
          "start_time": "2021-03-27T15:47:43.436372",
          "status": "completed"
        },
        "tags": [],
        "id": "7NAkROhYq2OD"
      },
      "source": [
        "So, if you boarded from cherborg (C), the chances of your survival were high."
      ]
    },
    {
      "cell_type": "markdown",
      "metadata": {
        "papermill": {
          "duration": 0.028515,
          "end_time": "2021-03-27T15:47:43.522661",
          "exception": false,
          "start_time": "2021-03-27T15:47:43.494146",
          "status": "completed"
        },
        "tags": [],
        "id": "fHU-jFCpq2OE"
      },
      "source": [
        "# **Conclusion** "
      ]
    },
    {
      "cell_type": "markdown",
      "metadata": {
        "papermill": {
          "duration": 0.028558,
          "end_time": "2021-03-27T15:47:43.581377",
          "exception": false,
          "start_time": "2021-03-27T15:47:43.552819",
          "status": "completed"
        },
        "tags": [],
        "id": "0bhzFYy6q2OE"
      },
      "source": [
        "Chances of your survival is high, if:\n",
        "* you are not traelling alone\n",
        "* you are female\n",
        "* you have boarded from cherborg(C)"
      ]
    }
  ]
}